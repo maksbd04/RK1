{
  "cells": [
    {
      "cell_type": "markdown",
      "metadata": {
        "id": "view-in-github",
        "colab_type": "text"
      },
      "source": [
        "<a href=\"https://colab.research.google.com/github/maksbd04/RK1/blob/master/%D0%91%D0%BE%D1%82_%D0%BA%D0%B0%D1%84%D0%B5.ipynb\" target=\"_parent\"><img src=\"https://colab.research.google.com/assets/colab-badge.svg\" alt=\"Open In Colab\"/></a>"
      ]
    },
    {
      "cell_type": "code",
      "execution_count": null,
      "metadata": {
        "colab": {
          "base_uri": "https://localhost:8080/"
        },
        "id": "f2MEhGwwPKqO",
        "outputId": "ee939444-3a3c-4b2b-a2f1-eae9ec260b01"
      },
      "outputs": [
        {
          "output_type": "stream",
          "name": "stdout",
          "text": [
            "Looking in indexes: https://pypi.org/simple, https://us-python.pkg.dev/colab-wheels/public/simple/\n",
            "Requirement already satisfied: pyTelegramBotAPI in /usr/local/lib/python3.10/dist-packages (4.11.0)\n",
            "Requirement already satisfied: requests in /usr/local/lib/python3.10/dist-packages (from pyTelegramBotAPI) (2.27.1)\n",
            "Requirement already satisfied: certifi>=2017.4.17 in /usr/local/lib/python3.10/dist-packages (from requests->pyTelegramBotAPI) (2022.12.7)\n",
            "Requirement already satisfied: urllib3<1.27,>=1.21.1 in /usr/local/lib/python3.10/dist-packages (from requests->pyTelegramBotAPI) (1.26.15)\n",
            "Requirement already satisfied: idna<4,>=2.5 in /usr/local/lib/python3.10/dist-packages (from requests->pyTelegramBotAPI) (3.4)\n",
            "Requirement already satisfied: charset-normalizer~=2.0.0 in /usr/local/lib/python3.10/dist-packages (from requests->pyTelegramBotAPI) (2.0.12)\n",
            "Looking in indexes: https://pypi.org/simple, https://us-python.pkg.dev/colab-wheels/public/simple/\n",
            "Requirement already satisfied: peewee in /usr/local/lib/python3.10/dist-packages (3.16.2)\n"
          ]
        }
      ],
      "source": [
        "!pip install pyTelegramBotAPI\n",
        "!pip install peewee\n"
      ]
    },
    {
      "cell_type": "code",
      "execution_count": null,
      "metadata": {
        "colab": {
          "base_uri": "https://localhost:8080/"
        },
        "id": "xQHxlz0GODGJ",
        "outputId": "f77e644a-d015-4f98-bcb1-c8e7d2822cae"
      },
      "outputs": [
        {
          "output_type": "execute_result",
          "data": {
            "text/plain": [
              "1"
            ]
          },
          "metadata": {},
          "execution_count": 50
        }
      ],
      "source": [
        "from peewee import *\n",
        "\n",
        "db = SqliteDatabase('my.db')\n",
        "\n",
        "class Cafe(Model):\n",
        "    name = CharField()\n",
        "    address = CharField()\n",
        "    image = CharField()\n",
        "    rating = IntegerField()\n",
        "\n",
        "    class Meta:\n",
        "        database = db\n",
        "\n",
        "class Food(Model):\n",
        "    name = CharField()\n",
        "    image = CharField()\n",
        "    price = IntegerField()\n",
        "\n",
        "    class Meta:\n",
        "        database = db\n",
        "\n",
        "\n",
        "class Menu(Model):\n",
        "    food = ForeignKeyField(Food)\n",
        "    cafe = ForeignKeyField(Cafe)\n",
        "\n",
        "    class Meta:\n",
        "        database = db\n",
        "\n",
        "db.connect()\n",
        "\n",
        "db.drop_tables([Cafe,Food,Menu])\n",
        "db.create_tables([Cafe,Food,Menu])\n",
        "\n",
        "coffe = Cafe(name='Кофейня', address='Baumanskaya', image=\"coffe.png\", rating=1)\n",
        "vkus = Cafe(name='Макдак', address='Tverskaya', image=\"vkus.png\",rating=3)\n",
        "kfc = Cafe(name='КФЦ', address='Пушкина', image=\"kfc.png\",rating=3)\n",
        "\n",
        "\n",
        "coffe.save()\n",
        "vkus.save()\n",
        "kfc.save()\n",
        "\n",
        "\n",
        "americano = Food(name='Американо', image='americano.png', price=90)\n",
        "cheeseburger = Food(name='Чизбургер', image='cheeseburger.png', price=120)\n",
        "cookies = Food(name='Печенье', image='cookies.png', price=80)\n",
        "\n",
        "americano.save()\n",
        "cheeseburger.save()\n",
        "cookies.save()\n",
        "\n",
        "coffe_americano = Menu(food=americano,cafe=coffe)\n",
        "coffe_cookies = Menu(food=cookies,cafe=coffe)\n",
        "vkus_cheeseburger = Menu(food=cheeseburger,cafe=vkus)\n",
        "vkus_americano = Menu(food=americano,cafe=vkus)\n",
        "\n",
        "coffe_americano.save()\n",
        "coffe_cookies.save()\n",
        "vkus_cheeseburger.save()\n",
        "vkus_americano.save()"
      ]
    },
    {
      "cell_type": "code",
      "execution_count": null,
      "metadata": {
        "id": "WPp43-68HyWO"
      },
      "outputs": [],
      "source": [
        "import telebot\n",
        "from telebot import types\n",
        "\n",
        "state = {\"testuser\":\"cafe\"}\n",
        "state_cafe = {\"testuser\":\"vkus\"}\n",
        "bot = telebot.TeleBot(\"6011328634:AAHF13KR8yhatc7BmW7S-LBdA8ZmxphDib8\")\n",
        "\n",
        "@bot.message_handler(commands=['start'])\n",
        "def start_message(message):\n",
        "    global state\n",
        "    global state_cafe\n",
        "    state[message.chat.username] =\"cafe\"\n",
        "    state_cafe[message.chat.username] = \"vkus\"\n",
        "    markup=types.ReplyKeyboardMarkup(resize_keyboard=True)\n",
        "    for c in Cafe.select():\n",
        "      item_cafe=types.KeyboardButton(c.name)\n",
        "      markup.add(item_cafe)\n",
        "    audio = open('car.mp3', 'rb')\n",
        "    bot.send_audio(message.from_user.id, audio)\n",
        "    audio.close()\n",
        "    bot.send_message(message.chat.id,\"Привет, я помогу выбрать еду\",reply_markup=markup)\n",
        "\n",
        "@bot.message_handler(commands=['button'])\n",
        "def button_message(message):\n",
        "    global state\n",
        "    global state_cafe\n",
        "    state[message.chat.username] =\"cafe\"\n",
        "    state_cafe[message.chat.username] = \"vkus\"\n",
        "    markup=types.ReplyKeyboardMarkup(resize_keyboard=True)\n",
        "    for c in Cafe.select():\n",
        "      item_cafe=types.KeyboardButton(c.name)\n",
        "      markup.add(item_cafe)\n",
        "    audio = open('car.mp3', 'rb')\n",
        "    bot.send_audio(message.from_user.id, audio)\n",
        "    audio.close()\n",
        "    bot.send_message(message.chat.id,\"Привет, я помогу выбрать еду\",reply_markup=markup)\n",
        "\n",
        "@bot.message_handler(content_types='text')\n",
        "def message_reply(message):\n",
        "    global state\n",
        "    global state_cafe\n",
        "    print(\"======DEBUG======\")\n",
        "    print(state)\n",
        "    print(\"======DEBUG======\")\n",
        "    if state[message.chat.username] == \"cafe\":\n",
        "      markup=types.ReplyKeyboardMarkup(resize_keyboard=True)\n",
        "      for c in Cafe.select():\n",
        "        if c.name == message.text:\n",
        "          ph = open(c.image,\"rb\")\n",
        "          bot.send_photo(message.chat.id,ph)\n",
        "          mystr = \"Название: \" + c.name + \" Рейтинг: \" + str(c.rating) + \" Адрес:\" + c.address\n",
        "          bot.send_message(message.chat.id,mystr)\n",
        "          state[message.chat.username] = \"menu\"\n",
        "          state_cafe[message.chat.username] = c.name\n",
        "          markup = types.InlineKeyboardMarkup()\n",
        "          markup.row_width = 2\n",
        "          for m in Menu.select():\n",
        "            if m.cafe.name == state_cafe[message.chat.username]:\n",
        "              print(\"!!!!!!!!!!!\")\n",
        "              food_str = m.food.name + \": \" + str(m.food.price)\n",
        "              markup.add(types.InlineKeyboardButton(food_str,callback_data=m.food.name))\n",
        "          bot.send_message(message.chat.id,\"Выберите блюдо\",reply_markup=markup)\n",
        "\n",
        "    if state[message.chat.username] == \"menu\":\n",
        "        markup=types.ReplyKeyboardMarkup(resize_keyboard=True)\n",
        "        for m in Menu.select():\n",
        "          if m.cafe.name == state_cafe:\n",
        "            ph = open(m.food.image,\"rb\")\n",
        "            bot.send_photo(message.chat.id,ph)\n",
        "            mystr = \"Ваш заказ: \" + m.food.name + \" Цена: \" + str(m.food.price)\n",
        "            bot.send_message(message.chat.id,mystr,reply_markup=markup)\n",
        "\n",
        "        state[message.chat.username] = \"cafe\"\n",
        "        for c in Cafe.select():\n",
        "          item_cafe=types.KeyboardButton(c.name)\n",
        "          markup.add(item_cafe)\n",
        "        bot.send_message(message.chat.id,\"Привет, я помогу выбрать еду\",reply_markup=markup)\n",
        "\n",
        "\n",
        "\n",
        "\n",
        "bot.infinity_polling()"
      ]
    }
  ],
  "metadata": {
    "colab": {
      "provenance": [],
      "include_colab_link": true
    },
    "kernelspec": {
      "display_name": "Python 3",
      "name": "python3"
    },
    "language_info": {
      "name": "python"
    }
  },
  "nbformat": 4,
  "nbformat_minor": 0
}